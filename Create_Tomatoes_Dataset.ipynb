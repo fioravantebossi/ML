{
  "nbformat": 4,
  "nbformat_minor": 0,
  "metadata": {
    "colab": {
      "provenance": []
    },
    "kernelspec": {
      "name": "python3",
      "display_name": "Python 3"
    },
    "language_info": {
      "name": "python"
    }
  },
  "cells": [
    {
      "cell_type": "code",
      "source": [
        "pip install icrawler"
      ],
      "metadata": {
        "colab": {
          "base_uri": "https://localhost:8080/"
        },
        "id": "cPWkKWzY14sk",
        "outputId": "22af1f77-3e8c-41a4-f7c8-ed53170c2836"
      },
      "execution_count": 2,
      "outputs": [
        {
          "output_type": "stream",
          "name": "stdout",
          "text": [
            "Collecting icrawler\n",
            "  Downloading icrawler-0.6.9-py3-none-any.whl.metadata (2.8 kB)\n",
            "Requirement already satisfied: beautifulsoup4 in /usr/local/lib/python3.10/dist-packages (from icrawler) (4.12.3)\n",
            "Collecting bs4 (from icrawler)\n",
            "  Downloading bs4-0.0.2-py2.py3-none-any.whl.metadata (411 bytes)\n",
            "Requirement already satisfied: lxml in /usr/local/lib/python3.10/dist-packages (from icrawler) (5.3.0)\n",
            "Requirement already satisfied: pillow in /usr/local/lib/python3.10/dist-packages (from icrawler) (11.0.0)\n",
            "Requirement already satisfied: pyyaml in /usr/local/lib/python3.10/dist-packages (from icrawler) (6.0.2)\n",
            "Requirement already satisfied: requests in /usr/local/lib/python3.10/dist-packages (from icrawler) (2.32.3)\n",
            "Requirement already satisfied: six in /usr/local/lib/python3.10/dist-packages (from icrawler) (1.17.0)\n",
            "Requirement already satisfied: soupsieve>1.2 in /usr/local/lib/python3.10/dist-packages (from beautifulsoup4->icrawler) (2.6)\n",
            "Requirement already satisfied: charset-normalizer<4,>=2 in /usr/local/lib/python3.10/dist-packages (from requests->icrawler) (3.4.0)\n",
            "Requirement already satisfied: idna<4,>=2.5 in /usr/local/lib/python3.10/dist-packages (from requests->icrawler) (3.10)\n",
            "Requirement already satisfied: urllib3<3,>=1.21.1 in /usr/local/lib/python3.10/dist-packages (from requests->icrawler) (2.2.3)\n",
            "Requirement already satisfied: certifi>=2017.4.17 in /usr/local/lib/python3.10/dist-packages (from requests->icrawler) (2024.12.14)\n",
            "Downloading icrawler-0.6.9-py3-none-any.whl (34 kB)\n",
            "Downloading bs4-0.0.2-py2.py3-none-any.whl (1.2 kB)\n",
            "Installing collected packages: bs4, icrawler\n",
            "Successfully installed bs4-0.0.2 icrawler-0.6.9\n"
          ]
        }
      ]
    },
    {
      "cell_type": "code",
      "execution_count": 3,
      "metadata": {
        "colab": {
          "base_uri": "https://localhost:8080/"
        },
        "id": "xbyjKftz1qEG",
        "outputId": "14256d59-3798-4b0b-9e36-33bd3d443c84"
      },
      "outputs": [
        {
          "output_type": "stream",
          "name": "stderr",
          "text": [
            "ERROR:downloader:Response status code 400, file https://media.istockphoto.com/id/1271996139/photo/tomatoes-arranged-from-unripe-to-ripe-in-color-gradient.jpg\n",
            "ERROR:downloader:Response status code 403, file https://www.researchgate.net/publication/343153474/figure/fig3/AS:916433215160321@1595506113205/Ripe-tomato-fruits-for-Anna-A-and-Bravo-B-respectively-Source-Author-2020.jpg\n",
            "ERROR:downloader:Response status code 403, file https://www.researchgate.net/publication/272679559/figure/fig2/AS:669427141988370@1536615276896/Major-developmental-changes-during-tomato-fruit-development-and-ripening-A-B-green.png\n",
            "ERROR:downloader:Response status code 403, file https://static.vecteezy.com/system/resources/previews/045/808/109/non_2x/a-fresh-ripe-tomato-with-slice-isolated-on-a-transparent-background-free-png\n",
            "ERROR:downloader:Response status code 403, file https://www.vecteezy.com/png\n",
            "ERROR:downloader:Response status code 404, file https://as1.ftcdn.net/v2/jpg\n",
            "Exception in thread parser-001:\n",
            "Traceback (most recent call last):\n",
            "  File \"/usr/lib/python3.10/threading.py\", line 1016, in _bootstrap_inner\n",
            "    self.run()\n",
            "  File \"/usr/lib/python3.10/threading.py\", line 953, in run\n",
            "    self._target(*self._args, **self._kwargs)\n",
            "  File \"/usr/local/lib/python3.10/dist-packages/icrawler/parser.py\", line 94, in worker_exec\n",
            "    for task in self.parse(response, **kwargs):\n",
            "TypeError: 'NoneType' object is not iterable\n",
            "ERROR:downloader:Response status code 400, file https://ip.prod.freshop.retail.ncrcloud.com/resize?url=https://images.freshop.ncrcloud.com/00000000048057/cea79b61210d290531be10f15f5ba930_large.png\n",
            "ERROR:downloader:Response status code 400, file https://media.istockphoto.com/id/1271996139/photo/tomatoes-arranged-from-unripe-to-ripe-in-color-gradient.jpg\n",
            "ERROR:downloader:Response status code 403, file https://i.redd.it/ok-to-harvest-unripe-tomato-plant-summer-over-v0-akuxmvdt31mb1.jpg\n",
            "ERROR:downloader:Response status code 403, file https://preview.redd.it/l5x7wk9v76q91.jpg\n",
            "ERROR:downloader:Response status code 401, file https://i.guim.co.uk/img/static/sys-images/Guardian/Pix/pictures/2008/11/6/1225962311481/greentoms2.jpg\n",
            "ERROR:downloader:Response status code 403, file https://i.redd.it/ok-to-harvest-unripe-tomato-plant-summer-over-v0-iansyudt31mb1.jpg\n",
            "ERROR:downloader:Response status code 403, file https://foodgardening.mequoda.com/daily/vegetable-gardening/can-you-eat-green-tomatoes-raw-or-are-they-toxic/\",\"Can You Eat Green Tomatoes Raw or Are They Toxic? - Food Gardening Network\",null,0,null,null,null,0,null,null,\"Food Gardening Network - Mequoda\",null,null,null,null,\"foodgardening.mequoda.com\",null,null,null,null,null,null,0,null,null,null,null,null,null,null,null,\"https://www.google.com/search/about-this-image?img=H4sIAAAAAAAA_-MS5eib_PLy5Ss7puxnFJhx8OK81tbmp\n",
            "ERROR:downloader:Response status code 403, file https://i.redd.it/ok-to-harvest-unripe-tomato-plant-summer-over-v0-mt25cvdt31mb1.jpg\n",
            "ERROR:downloader:Response status code 400, file https://media.istockphoto.com/id/1461664324/photo/close-up-of-the-small-unripe-tomatoes-on-the-branch-at-backyard-garden.jpg\n",
            "ERROR:downloader:Response status code 404, file https://t4.ftcdn.net/jpg\n",
            "Exception in thread parser-001:\n",
            "Traceback (most recent call last):\n",
            "  File \"/usr/lib/python3.10/threading.py\", line 1016, in _bootstrap_inner\n",
            "    self.run()\n",
            "  File \"/usr/lib/python3.10/threading.py\", line 953, in run\n",
            "    self._target(*self._args, **self._kwargs)\n",
            "  File \"/usr/local/lib/python3.10/dist-packages/icrawler/parser.py\", line 94, in worker_exec\n",
            "    for task in self.parse(response, **kwargs):\n",
            "TypeError: 'NoneType' object is not iterable\n",
            "ERROR:downloader:Response status code 400, file https://media.gettyimages.com/id/987738942/photo/bowl-with-ripe-and-unripe-tomatoes.jpg\n"
          ]
        }
      ],
      "source": [
        "from icrawler.builtin import GoogleImageCrawler\n",
        "import os\n",
        "\n",
        "# Define search queries and directories\n",
        "queries = {\n",
        "    'mature': 'ripe tomato',\n",
        "    'not_mature': 'unripe tomato'\n",
        "}\n",
        "\n",
        "# Base directory for downloaded images\n",
        "base_dir = 'source_images_tomato'\n",
        "os.makedirs(base_dir, exist_ok=True)\n",
        "\n",
        "for label, query in queries.items():\n",
        "    # Directory for each class\n",
        "    class_dir = os.path.join(base_dir, label)\n",
        "    os.makedirs(class_dir, exist_ok=True)\n",
        "\n",
        "    # Set up the crawler\n",
        "    crawler = GoogleImageCrawler(storage={'root_dir': class_dir})\n",
        "\n",
        "    crawler.crawl(\n",
        "        keyword=query,\n",
        "        max_num=200,            # Adjust to how many images you want\n",
        "        min_size=(400, 400),   # Filter out very small images\n",
        "        file_idx_offset=0\n",
        "    )\n"
      ]
    },
    {
      "cell_type": "code",
      "source": [
        "!cp -R /content/source_images_tomato /content/drive/MyDrive\n"
      ],
      "metadata": {
        "id": "9aqYQscW15ol"
      },
      "execution_count": 7,
      "outputs": []
    }
  ]
}